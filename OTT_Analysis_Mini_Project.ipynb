{
  "nbformat": 4,
  "nbformat_minor": 0,
  "metadata": {
    "colab": {
      "name": "OTT Analysis Mini Project.ipynb",
      "provenance": [],
      "collapsed_sections": []
    },
    "kernelspec": {
      "display_name": "Python 3",
      "name": "python3"
    },
    "language_info": {
      "name": "python"
    }
  },
  "cells": [
    {
      "cell_type": "markdown",
      "metadata": {
        "id": "HvWZONBzZ3W9"
      },
      "source": [
        "#**Movies on OTT Platforms**"
      ]
    },
    {
      "cell_type": "code",
      "metadata": {
        "id": "K4GrX4j_8Fzj"
      },
      "source": [
        "import numpy as np\n",
        "import pandas as pd\n",
        "import matplotlib.pyplot as plt\n",
        "import seaborn as sns\n",
        "%matplotlib inline"
      ],
      "execution_count": 111,
      "outputs": []
    },
    {
      "cell_type": "code",
      "metadata": {
        "id": "u2SNNOLJ8wB-"
      },
      "source": [
        "df = pd.read_csv(\"/content/Movies_on_ott.csv\")"
      ],
      "execution_count": 112,
      "outputs": []
    },
    {
      "cell_type": "code",
      "metadata": {
        "colab": {
          "base_uri": "https://localhost:8080/"
        },
        "id": "lKfOP1dVgzBM",
        "outputId": "149158e9-781c-4b24-8d0d-c6b10c8720f5"
      },
      "source": [
        "df.shape"
      ],
      "execution_count": 113,
      "outputs": [
        {
          "output_type": "execute_result",
          "data": {
            "text/plain": [
              "(16744, 16)"
            ]
          },
          "metadata": {},
          "execution_count": 113
        }
      ]
    },
    {
      "cell_type": "code",
      "metadata": {
        "colab": {
          "base_uri": "https://localhost:8080/",
          "height": 304
        },
        "id": "BuueLlp89D96",
        "outputId": "df8bf55a-abb6-46fa-8c50-6bec672586ba"
      },
      "source": [
        "df.head()"
      ],
      "execution_count": 114,
      "outputs": [
        {
          "output_type": "execute_result",
          "data": {
            "text/html": [
              "<div>\n",
              "<style scoped>\n",
              "    .dataframe tbody tr th:only-of-type {\n",
              "        vertical-align: middle;\n",
              "    }\n",
              "\n",
              "    .dataframe tbody tr th {\n",
              "        vertical-align: top;\n",
              "    }\n",
              "\n",
              "    .dataframe thead th {\n",
              "        text-align: right;\n",
              "    }\n",
              "</style>\n",
              "<table border=\"1\" class=\"dataframe\">\n",
              "  <thead>\n",
              "    <tr style=\"text-align: right;\">\n",
              "      <th></th>\n",
              "      <th>ID</th>\n",
              "      <th>Title</th>\n",
              "      <th>Year</th>\n",
              "      <th>Age</th>\n",
              "      <th>IMDb</th>\n",
              "      <th>Rotten Tomatoes</th>\n",
              "      <th>Netflix</th>\n",
              "      <th>Hulu</th>\n",
              "      <th>Prime Video</th>\n",
              "      <th>Disney+</th>\n",
              "      <th>Type</th>\n",
              "      <th>Directors</th>\n",
              "      <th>Genres</th>\n",
              "      <th>Country</th>\n",
              "      <th>Language</th>\n",
              "      <th>Runtime</th>\n",
              "    </tr>\n",
              "  </thead>\n",
              "  <tbody>\n",
              "    <tr>\n",
              "      <th>0</th>\n",
              "      <td>1</td>\n",
              "      <td>Inception</td>\n",
              "      <td>2010</td>\n",
              "      <td>13+</td>\n",
              "      <td>8.8</td>\n",
              "      <td>87%</td>\n",
              "      <td>1.0</td>\n",
              "      <td>0</td>\n",
              "      <td>0</td>\n",
              "      <td>0</td>\n",
              "      <td>0</td>\n",
              "      <td>Christopher Nolan</td>\n",
              "      <td>Action,Adventure,Sci-Fi,Thriller</td>\n",
              "      <td>United States,United Kingdom</td>\n",
              "      <td>English,Japanese,French</td>\n",
              "      <td>148.0</td>\n",
              "    </tr>\n",
              "    <tr>\n",
              "      <th>1</th>\n",
              "      <td>2</td>\n",
              "      <td>The Matrix</td>\n",
              "      <td>1999</td>\n",
              "      <td>18+</td>\n",
              "      <td>8.7</td>\n",
              "      <td>87%</td>\n",
              "      <td>1.0</td>\n",
              "      <td>0</td>\n",
              "      <td>0</td>\n",
              "      <td>0</td>\n",
              "      <td>0</td>\n",
              "      <td>Lana Wachowski,Lilly Wachowski</td>\n",
              "      <td>Action,Sci-Fi</td>\n",
              "      <td>United States</td>\n",
              "      <td>English</td>\n",
              "      <td>136.0</td>\n",
              "    </tr>\n",
              "    <tr>\n",
              "      <th>2</th>\n",
              "      <td>3</td>\n",
              "      <td>Avengers: Infinity War</td>\n",
              "      <td>2018</td>\n",
              "      <td>13+</td>\n",
              "      <td>8.5</td>\n",
              "      <td>84%</td>\n",
              "      <td>1.0</td>\n",
              "      <td>0</td>\n",
              "      <td>0</td>\n",
              "      <td>0</td>\n",
              "      <td>0</td>\n",
              "      <td>Anthony Russo,Joe Russo</td>\n",
              "      <td>Action,Adventure,Sci-Fi</td>\n",
              "      <td>United States</td>\n",
              "      <td>English</td>\n",
              "      <td>149.0</td>\n",
              "    </tr>\n",
              "    <tr>\n",
              "      <th>3</th>\n",
              "      <td>4</td>\n",
              "      <td>Back to the Future</td>\n",
              "      <td>1985</td>\n",
              "      <td>7+</td>\n",
              "      <td>8.5</td>\n",
              "      <td>96%</td>\n",
              "      <td>1.0</td>\n",
              "      <td>0</td>\n",
              "      <td>0</td>\n",
              "      <td>0</td>\n",
              "      <td>0</td>\n",
              "      <td>Robert Zemeckis</td>\n",
              "      <td>Adventure,Comedy,Sci-Fi</td>\n",
              "      <td>United States</td>\n",
              "      <td>English</td>\n",
              "      <td>116.0</td>\n",
              "    </tr>\n",
              "    <tr>\n",
              "      <th>4</th>\n",
              "      <td>5</td>\n",
              "      <td>The Good, the Bad and the Ugly</td>\n",
              "      <td>1966</td>\n",
              "      <td>18+</td>\n",
              "      <td>8.8</td>\n",
              "      <td>97%</td>\n",
              "      <td>1.0</td>\n",
              "      <td>0</td>\n",
              "      <td>1</td>\n",
              "      <td>0</td>\n",
              "      <td>0</td>\n",
              "      <td>Sergio Leone</td>\n",
              "      <td>Western</td>\n",
              "      <td>Italy,Spain,West Germany</td>\n",
              "      <td>Italian</td>\n",
              "      <td>161.0</td>\n",
              "    </tr>\n",
              "  </tbody>\n",
              "</table>\n",
              "</div>"
            ],
            "text/plain": [
              "   ID                           Title  ...                 Language Runtime\n",
              "0   1                       Inception  ...  English,Japanese,French   148.0\n",
              "1   2                      The Matrix  ...                  English   136.0\n",
              "2   3          Avengers: Infinity War  ...                  English   149.0\n",
              "3   4              Back to the Future  ...                  English   116.0\n",
              "4   5  The Good, the Bad and the Ugly  ...                  Italian   161.0\n",
              "\n",
              "[5 rows x 16 columns]"
            ]
          },
          "metadata": {},
          "execution_count": 114
        }
      ]
    },
    {
      "cell_type": "code",
      "metadata": {
        "colab": {
          "base_uri": "https://localhost:8080/"
        },
        "id": "Fb7fAQoGvz5g",
        "outputId": "a57da3c3-56fc-4d26-c9f4-f02203c76107"
      },
      "source": [
        "df.info()"
      ],
      "execution_count": 115,
      "outputs": [
        {
          "output_type": "stream",
          "name": "stdout",
          "text": [
            "<class 'pandas.core.frame.DataFrame'>\n",
            "RangeIndex: 16744 entries, 0 to 16743\n",
            "Data columns (total 16 columns):\n",
            " #   Column           Non-Null Count  Dtype  \n",
            "---  ------           --------------  -----  \n",
            " 0   ID               16744 non-null  int64  \n",
            " 1   Title            16744 non-null  object \n",
            " 2   Year             16744 non-null  int64  \n",
            " 3   Age              7354 non-null   object \n",
            " 4   IMDb             16173 non-null  float64\n",
            " 5   Rotten Tomatoes  5158 non-null   object \n",
            " 6   Netflix          16744 non-null  float64\n",
            " 7   Hulu             16744 non-null  int64  \n",
            " 8   Prime Video      16744 non-null  int64  \n",
            " 9   Disney+          16744 non-null  int64  \n",
            " 10  Type             16744 non-null  int64  \n",
            " 11  Directors        16018 non-null  object \n",
            " 12  Genres           16469 non-null  object \n",
            " 13  Country          16309 non-null  object \n",
            " 14  Language         16145 non-null  object \n",
            " 15  Runtime          16152 non-null  float64\n",
            "dtypes: float64(3), int64(6), object(7)\n",
            "memory usage: 2.0+ MB\n"
          ]
        }
      ]
    },
    {
      "cell_type": "code",
      "metadata": {
        "colab": {
          "base_uri": "https://localhost:8080/",
          "height": 295
        },
        "id": "nuJlBBAl-O7t",
        "outputId": "26cf52f7-a596-40b1-8668-54db9d3b9d1a"
      },
      "source": [
        "df.describe()"
      ],
      "execution_count": 116,
      "outputs": [
        {
          "output_type": "execute_result",
          "data": {
            "text/html": [
              "<div>\n",
              "<style scoped>\n",
              "    .dataframe tbody tr th:only-of-type {\n",
              "        vertical-align: middle;\n",
              "    }\n",
              "\n",
              "    .dataframe tbody tr th {\n",
              "        vertical-align: top;\n",
              "    }\n",
              "\n",
              "    .dataframe thead th {\n",
              "        text-align: right;\n",
              "    }\n",
              "</style>\n",
              "<table border=\"1\" class=\"dataframe\">\n",
              "  <thead>\n",
              "    <tr style=\"text-align: right;\">\n",
              "      <th></th>\n",
              "      <th>ID</th>\n",
              "      <th>Year</th>\n",
              "      <th>IMDb</th>\n",
              "      <th>Netflix</th>\n",
              "      <th>Hulu</th>\n",
              "      <th>Prime Video</th>\n",
              "      <th>Disney+</th>\n",
              "      <th>Type</th>\n",
              "      <th>Runtime</th>\n",
              "    </tr>\n",
              "  </thead>\n",
              "  <tbody>\n",
              "    <tr>\n",
              "      <th>count</th>\n",
              "      <td>16744.000000</td>\n",
              "      <td>16744.000000</td>\n",
              "      <td>16173.000000</td>\n",
              "      <td>16744.000000</td>\n",
              "      <td>16744.000000</td>\n",
              "      <td>16744.000000</td>\n",
              "      <td>16744.000000</td>\n",
              "      <td>16744.0</td>\n",
              "      <td>16152.000000</td>\n",
              "    </tr>\n",
              "    <tr>\n",
              "      <th>mean</th>\n",
              "      <td>8372.500000</td>\n",
              "      <td>2003.014035</td>\n",
              "      <td>5.902751</td>\n",
              "      <td>0.212614</td>\n",
              "      <td>0.053930</td>\n",
              "      <td>0.737817</td>\n",
              "      <td>0.033684</td>\n",
              "      <td>0.0</td>\n",
              "      <td>93.413447</td>\n",
              "    </tr>\n",
              "    <tr>\n",
              "      <th>std</th>\n",
              "      <td>4833.720789</td>\n",
              "      <td>20.674321</td>\n",
              "      <td>1.347867</td>\n",
              "      <td>0.409170</td>\n",
              "      <td>0.225886</td>\n",
              "      <td>0.439835</td>\n",
              "      <td>0.180419</td>\n",
              "      <td>0.0</td>\n",
              "      <td>28.219222</td>\n",
              "    </tr>\n",
              "    <tr>\n",
              "      <th>min</th>\n",
              "      <td>1.000000</td>\n",
              "      <td>1902.000000</td>\n",
              "      <td>0.000000</td>\n",
              "      <td>0.000000</td>\n",
              "      <td>0.000000</td>\n",
              "      <td>0.000000</td>\n",
              "      <td>0.000000</td>\n",
              "      <td>0.0</td>\n",
              "      <td>1.000000</td>\n",
              "    </tr>\n",
              "    <tr>\n",
              "      <th>25%</th>\n",
              "      <td>4186.750000</td>\n",
              "      <td>2000.000000</td>\n",
              "      <td>5.100000</td>\n",
              "      <td>0.000000</td>\n",
              "      <td>0.000000</td>\n",
              "      <td>0.000000</td>\n",
              "      <td>0.000000</td>\n",
              "      <td>0.0</td>\n",
              "      <td>82.000000</td>\n",
              "    </tr>\n",
              "    <tr>\n",
              "      <th>50%</th>\n",
              "      <td>8372.500000</td>\n",
              "      <td>2012.000000</td>\n",
              "      <td>6.100000</td>\n",
              "      <td>0.000000</td>\n",
              "      <td>0.000000</td>\n",
              "      <td>1.000000</td>\n",
              "      <td>0.000000</td>\n",
              "      <td>0.0</td>\n",
              "      <td>92.000000</td>\n",
              "    </tr>\n",
              "    <tr>\n",
              "      <th>75%</th>\n",
              "      <td>12558.250000</td>\n",
              "      <td>2016.000000</td>\n",
              "      <td>6.900000</td>\n",
              "      <td>0.000000</td>\n",
              "      <td>0.000000</td>\n",
              "      <td>1.000000</td>\n",
              "      <td>0.000000</td>\n",
              "      <td>0.0</td>\n",
              "      <td>104.000000</td>\n",
              "    </tr>\n",
              "    <tr>\n",
              "      <th>max</th>\n",
              "      <td>16744.000000</td>\n",
              "      <td>2020.000000</td>\n",
              "      <td>9.300000</td>\n",
              "      <td>1.010000</td>\n",
              "      <td>1.000000</td>\n",
              "      <td>1.000000</td>\n",
              "      <td>1.000000</td>\n",
              "      <td>0.0</td>\n",
              "      <td>1256.000000</td>\n",
              "    </tr>\n",
              "  </tbody>\n",
              "</table>\n",
              "</div>"
            ],
            "text/plain": [
              "                 ID          Year  ...     Type       Runtime\n",
              "count  16744.000000  16744.000000  ...  16744.0  16152.000000\n",
              "mean    8372.500000   2003.014035  ...      0.0     93.413447\n",
              "std     4833.720789     20.674321  ...      0.0     28.219222\n",
              "min        1.000000   1902.000000  ...      0.0      1.000000\n",
              "25%     4186.750000   2000.000000  ...      0.0     82.000000\n",
              "50%     8372.500000   2012.000000  ...      0.0     92.000000\n",
              "75%    12558.250000   2016.000000  ...      0.0    104.000000\n",
              "max    16744.000000   2020.000000  ...      0.0   1256.000000\n",
              "\n",
              "[8 rows x 9 columns]"
            ]
          },
          "metadata": {},
          "execution_count": 116
        }
      ]
    },
    {
      "cell_type": "markdown",
      "metadata": {
        "id": "bH0ppq9rfqTU"
      },
      "source": [
        "**Data Cleansing**"
      ]
    },
    {
      "cell_type": "code",
      "metadata": {
        "id": "Hd7WMCRE2JRU"
      },
      "source": [
        "# To drop duplicate values\n",
        "\n",
        "df.drop_duplicates(inplace = True)"
      ],
      "execution_count": 117,
      "outputs": []
    },
    {
      "cell_type": "code",
      "metadata": {
        "colab": {
          "base_uri": "https://localhost:8080/"
        },
        "id": "B0xjx1yUiTeA",
        "outputId": "e8175231-9bae-485e-eb33-4d640178caff"
      },
      "source": [
        "df.shape"
      ],
      "execution_count": 118,
      "outputs": [
        {
          "output_type": "execute_result",
          "data": {
            "text/plain": [
              "(16744, 16)"
            ]
          },
          "metadata": {},
          "execution_count": 118
        }
      ]
    },
    {
      "cell_type": "markdown",
      "metadata": {
        "id": "hLt1zLPoiXR3"
      },
      "source": [
        "This implies that there are no duplicate records in the dataset\n"
      ]
    },
    {
      "cell_type": "code",
      "metadata": {
        "colab": {
          "base_uri": "https://localhost:8080/"
        },
        "id": "7Hgf0vqo--TN",
        "outputId": "f84eac80-f70f-4483-fbc9-cba4d75dea3f"
      },
      "source": [
        "# To check the percentage of zero values in Type column\n",
        "\n",
        "print(((df[df['Type']==0]['Type'].count())/ (df['Type'].count()))*100)"
      ],
      "execution_count": 119,
      "outputs": [
        {
          "output_type": "stream",
          "name": "stdout",
          "text": [
            "100.0\n"
          ]
        }
      ]
    },
    {
      "cell_type": "markdown",
      "metadata": {
        "id": "umcUxejFAOGY"
      },
      "source": [
        "This implies that all the values in the type column is 0. So, we remove the column."
      ]
    },
    {
      "cell_type": "code",
      "metadata": {
        "id": "oHg36sXM_5N8"
      },
      "source": [
        "df.drop(\"Type\", axis=1, inplace= True)"
      ],
      "execution_count": 120,
      "outputs": []
    },
    {
      "cell_type": "code",
      "metadata": {
        "colab": {
          "base_uri": "https://localhost:8080/"
        },
        "id": "5aOarfi9iVNO",
        "outputId": "a37f0869-da22-44ec-a342-9c49b53f0ddc"
      },
      "source": [
        "# To check the percentage of NaN values in each column\n",
        "\n",
        "(df.isna().sum()/ (df.isna().sum() + df.count())) * 100"
      ],
      "execution_count": 121,
      "outputs": [
        {
          "output_type": "execute_result",
          "data": {
            "text/plain": [
              "ID                  0.000000\n",
              "Title               0.000000\n",
              "Year                0.000000\n",
              "Age                56.079790\n",
              "IMDb                3.410177\n",
              "Rotten Tomatoes    69.194935\n",
              "Netflix             0.000000\n",
              "Hulu                0.000000\n",
              "Prime Video         0.000000\n",
              "Disney+             0.000000\n",
              "Directors           4.335882\n",
              "Genres              1.642379\n",
              "Country             2.597946\n",
              "Language            3.577401\n",
              "Runtime             3.535595\n",
              "dtype: float64"
            ]
          },
          "metadata": {},
          "execution_count": 121
        }
      ]
    },
    {
      "cell_type": "markdown",
      "metadata": {
        "id": "QvM1hpvjj_6v"
      },
      "source": [
        "No columns are dropped, since, every column has some non-null values"
      ]
    },
    {
      "cell_type": "code",
      "metadata": {
        "colab": {
          "base_uri": "https://localhost:8080/"
        },
        "id": "HSTw6dpSA2U-",
        "outputId": "1d2864da-5e50-4415-a086-8239573a2450"
      },
      "source": [
        "print(\"No. of columns: \", df.shape[1])\n",
        "print(\"No. of Movies: \", df.shape[0])"
      ],
      "execution_count": 122,
      "outputs": [
        {
          "output_type": "stream",
          "name": "stdout",
          "text": [
            "No. of columns:  15\n",
            "No. of Movies:  16744\n"
          ]
        }
      ]
    },
    {
      "cell_type": "markdown",
      "metadata": {
        "id": "QGcFIQLDm8YK"
      },
      "source": [
        "**Data Analysis**"
      ]
    },
    {
      "cell_type": "code",
      "metadata": {
        "colab": {
          "base_uri": "https://localhost:8080/"
        },
        "id": "uvrNNqTtC8-4",
        "outputId": "bff15e28-0080-4c09-b531-770dfd861dd0"
      },
      "source": [
        "# Distribution of movies across years\n",
        "\n",
        "print(np.min(df['Year']), np.max(df['Year']))"
      ],
      "execution_count": 123,
      "outputs": [
        {
          "output_type": "stream",
          "name": "stdout",
          "text": [
            "1902 2020\n"
          ]
        }
      ]
    },
    {
      "cell_type": "code",
      "metadata": {
        "colab": {
          "base_uri": "https://localhost:8080/",
          "height": 354
        },
        "id": "tFxtYgnB5Tur",
        "outputId": "0cc2975b-f178-4a7e-f877-96af9b5ea733"
      },
      "source": [
        "sns.distplot(df['Year'], color='darkred')"
      ],
      "execution_count": 124,
      "outputs": [
        {
          "output_type": "stream",
          "name": "stderr",
          "text": [
            "/usr/local/lib/python3.7/dist-packages/seaborn/distributions.py:2619: FutureWarning: `distplot` is a deprecated function and will be removed in a future version. Please adapt your code to use either `displot` (a figure-level function with similar flexibility) or `histplot` (an axes-level function for histograms).\n",
            "  warnings.warn(msg, FutureWarning)\n"
          ]
        },
        {
          "output_type": "execute_result",
          "data": {
            "text/plain": [
              "<matplotlib.axes._subplots.AxesSubplot at 0x7fdc24be3210>"
            ]
          },
          "metadata": {},
          "execution_count": 124
        },
        {
          "output_type": "display_data",
          "data": {
            "image/png": "[encoded data removed]",
            "text/plain": [
              "<Figure size 432x288 with 1 Axes>"
            ]
          },
          "metadata": {
            "needs_background": "light"
          }
        }
      ]
    },
    {
      "cell_type": "code",
      "metadata": {
        "colab": {
          "base_uri": "https://localhost:8080/",
          "height": 296
        },
        "id": "anciAKe7GSa3",
        "outputId": "f11e5181-9ba4-4bf1-9229-8a8a416079a3"
      },
      "source": [
        "sns.boxplot(x=df['Year'], color='lightgreen')"
      ],
      "execution_count": 125,
      "outputs": [
        {
          "output_type": "execute_result",
          "data": {
            "text/plain": [
              "<matplotlib.axes._subplots.AxesSubplot at 0x7fdc254b7f90>"
            ]
          },
          "metadata": {},
          "execution_count": 125
        },
        {
          "output_type": "display_data",
          "data": {
            "image/png": "[encoded data removed]",
            "text/plain": [
              "<Figure size 432x288 with 1 Axes>"
            ]
          },
          "metadata": {
            "needs_background": "light"
          }
        }
      ]
    },
    {
      "cell_type": "markdown",
      "metadata": {
        "id": "v4JkHr54_nCJ"
      },
      "source": [
        "The above graph depicts the distribution of movies across years. All these OTT platforms consist of movies released between the years 1902 and 2020.There are negligibly less number of movies released before 1920. On the other hand, most of the movies in the OTT platforms have been released between the years 2000 and 2020. This is because all of these OTT platforms emerged in this interval. Also, we can infer that these OTT platforms have acquired digital streaming rights of many movies released in the interval 2010 and 2020."
      ]
    },
    {
      "cell_type": "code",
      "metadata": {
        "colab": {
          "base_uri": "https://localhost:8080/",
          "height": 234
        },
        "id": "jOhILJNFgSlh",
        "outputId": "834c096e-852d-4b47-cf59-43c94880ee21"
      },
      "source": [
        "# Count of movies in each platform based on Year (2016-2020)\n",
        "\n",
        "y1 = df[['Year', 'Netflix', 'Hulu', 'Prime Video', 'Disney+']]\n",
        "ye = y1[df['Year'].isin([2016, 2017, 2018, 2019, 2020])].groupby(by='Year').sum()\n",
        "ye"
      ],
      "execution_count": 126,
      "outputs": [
        {
          "output_type": "execute_result",
          "data": {
            "text/html": [
              "<div>\n",
              "<style scoped>\n",
              "    .dataframe tbody tr th:only-of-type {\n",
              "        vertical-align: middle;\n",
              "    }\n",
              "\n",
              "    .dataframe tbody tr th {\n",
              "        vertical-align: top;\n",
              "    }\n",
              "\n",
              "    .dataframe thead th {\n",
              "        text-align: right;\n",
              "    }\n",
              "</style>\n",
              "<table border=\"1\" class=\"dataframe\">\n",
              "  <thead>\n",
              "    <tr style=\"text-align: right;\">\n",
              "      <th></th>\n",
              "      <th>Netflix</th>\n",
              "      <th>Hulu</th>\n",
              "      <th>Prime Video</th>\n",
              "      <th>Disney+</th>\n",
              "    </tr>\n",
              "    <tr>\n",
              "      <th>Year</th>\n",
              "      <th></th>\n",
              "      <th></th>\n",
              "      <th></th>\n",
              "      <th></th>\n",
              "    </tr>\n",
              "  </thead>\n",
              "  <tbody>\n",
              "    <tr>\n",
              "      <th>2016</th>\n",
              "      <td>444.0</td>\n",
              "      <td>62</td>\n",
              "      <td>730</td>\n",
              "      <td>17</td>\n",
              "    </tr>\n",
              "    <tr>\n",
              "      <th>2017</th>\n",
              "      <td>569.0</td>\n",
              "      <td>124</td>\n",
              "      <td>763</td>\n",
              "      <td>22</td>\n",
              "    </tr>\n",
              "    <tr>\n",
              "      <th>2018</th>\n",
              "      <td>560.0</td>\n",
              "      <td>158</td>\n",
              "      <td>625</td>\n",
              "      <td>16</td>\n",
              "    </tr>\n",
              "    <tr>\n",
              "      <th>2019</th>\n",
              "      <td>428.0</td>\n",
              "      <td>104</td>\n",
              "      <td>172</td>\n",
              "      <td>23</td>\n",
              "    </tr>\n",
              "    <tr>\n",
              "      <th>2020</th>\n",
              "      <td>104.0</td>\n",
              "      <td>6</td>\n",
              "      <td>31</td>\n",
              "      <td>9</td>\n",
              "    </tr>\n",
              "  </tbody>\n",
              "</table>\n",
              "</div>"
            ],
            "text/plain": [
              "      Netflix  Hulu  Prime Video  Disney+\n",
              "Year                                     \n",
              "2016    444.0    62          730       17\n",
              "2017    569.0   124          763       22\n",
              "2018    560.0   158          625       16\n",
              "2019    428.0   104          172       23\n",
              "2020    104.0     6           31        9"
            ]
          },
          "metadata": {},
          "execution_count": 126
        }
      ]
    },
    {
      "cell_type": "code",
      "metadata": {
        "colab": {
          "base_uri": "https://localhost:8080/",
          "height": 248
        },
        "id": "s7DlRe60kYD9",
        "outputId": "9c6313a9-200b-43cc-cc1d-6e37175d1821"
      },
      "source": [
        "# To check the number of movies in each platform\n",
        "\n",
        "plt.pie(x=[df['Netflix'].value_counts()[1], df['Hulu'].value_counts()[1], df['Prime Video'].value_counts()[1], df['Disney+'].value_counts()[1]],\n",
        "        labels = ['Netflix', 'Hulu', 'Prime Video', 'Disney+'], \n",
        "        autopct = '%.0f%%')\n",
        "#plt.style.use('default')\n",
        "plt.show()"
      ],
      "execution_count": 127,
      "outputs": [
        {
          "output_type": "display_data",
          "data": {
            "image/png": "[encoded data removed]",
            "text/plain": [
              "<Figure size 432x288 with 1 Axes>"
            ]
          },
          "metadata": {}
        }
      ]
    },
    {
      "cell_type": "markdown",
      "metadata": {
        "id": "5UvHzFBy3rz7"
      },
      "source": [
        "Most of the movies in the dataset are streaming in Prime Video followed by Netflix, Hulu and Disney+"
      ]
    },
    {
      "cell_type": "code",
      "metadata": {
        "id": "s0PYiZaHOz9n"
      },
      "source": [
        "# Top 10 languages based on movie count\n",
        "\n",
        "a = df['Language'].values\n",
        "l=[]\n",
        "for i in a:\n",
        "  l.extend(list(str(i).split(\",\")))\n",
        "\n",
        "d={}\n",
        "for i in l:\n",
        "  if i not in d.keys():\n",
        "    d[i]=1\n",
        "  else:\n",
        "    d[i]+=1\n",
        "\n",
        "s = pd.Series(index=d.keys(), data = d.values())\n",
        "s.drop(index='nan', inplace=True)\n",
        "s.sort_values(ascending=False, inplace = True)"
      ],
      "execution_count": 128,
      "outputs": []
    },
    {
      "cell_type": "code",
      "metadata": {
        "colab": {
          "base_uri": "https://localhost:8080/",
          "height": 318
        },
        "id": "DK3Xgp7ewAHQ",
        "outputId": "eb0acde8-1b4a-488a-e48b-9b19e6c3cf6f"
      },
      "source": [
        "sns.set_palette(\"flare\")\n",
        "sns.barplot(x=s.index[:10], y=s.values[:10])\n",
        "plt.xticks(rotation=90)\n",
        "plt.title(\"Movie count of top 10 languages\")\n",
        "plt.show()"
      ],
      "execution_count": 129,
      "outputs": [
        {
          "output_type": "display_data",
          "data": {
            "image/png": "[encoded data removed]",
            "text/plain": [
              "<Figure size 432x288 with 1 Axes>"
            ]
          },
          "metadata": {
            "needs_background": "light"
          }
        }
      ]
    },
    {
      "cell_type": "markdown",
      "metadata": {
        "id": "wzgkKnZ46g-B"
      },
      "source": [
        "From the above graph, we can infer that 12,000+ movies are available in English in these OTT platforms. All of these OTT platforms concentrate more on English movies to seek attention of viewers globally."
      ]
    },
    {
      "cell_type": "code",
      "metadata": {
        "id": "gkyGpXgHp7LT"
      },
      "source": [
        "# To determine the movie count on each OTT platform based on Age\n",
        "\n",
        "x=pd.DataFrame({'Netflix':df[['Netflix','Age']].value_counts()[1],\n",
        "                'Hulu':df[['Hulu','Age']].value_counts()[1],\n",
        "                'Prime Video':df[['Prime Video','Age']].value_counts()[1],\n",
        "                'Disney+':df[['Disney+','Age']].value_counts()[1]})"
      ],
      "execution_count": 151,
      "outputs": []
    },
    {
      "cell_type": "code",
      "metadata": {
        "colab": {
          "base_uri": "https://localhost:8080/",
          "height": 203
        },
        "id": "NtOMDU-pB5v2",
        "outputId": "d93a7bc4-0c68-496e-b311-1232ada243d0"
      },
      "source": [
        "x"
      ],
      "execution_count": 152,
      "outputs": [
        {
          "output_type": "execute_result",
          "data": {
            "text/html": [
              "<div>\n",
              "<style scoped>\n",
              "    .dataframe tbody tr th:only-of-type {\n",
              "        vertical-align: middle;\n",
              "    }\n",
              "\n",
              "    .dataframe tbody tr th {\n",
              "        vertical-align: top;\n",
              "    }\n",
              "\n",
              "    .dataframe thead th {\n",
              "        text-align: right;\n",
              "    }\n",
              "</style>\n",
              "<table border=\"1\" class=\"dataframe\">\n",
              "  <thead>\n",
              "    <tr style=\"text-align: right;\">\n",
              "      <th></th>\n",
              "      <th>Netflix</th>\n",
              "      <th>Hulu</th>\n",
              "      <th>Prime Video</th>\n",
              "      <th>Disney+</th>\n",
              "    </tr>\n",
              "  </thead>\n",
              "  <tbody>\n",
              "    <tr>\n",
              "      <th>13+</th>\n",
              "      <td>382</td>\n",
              "      <td>119</td>\n",
              "      <td>819</td>\n",
              "      <td>40</td>\n",
              "    </tr>\n",
              "    <tr>\n",
              "      <th>16+</th>\n",
              "      <td>89</td>\n",
              "      <td>17</td>\n",
              "      <td>226</td>\n",
              "      <td>1</td>\n",
              "    </tr>\n",
              "    <tr>\n",
              "      <th>18+</th>\n",
              "      <td>752</td>\n",
              "      <td>290</td>\n",
              "      <td>2612</td>\n",
              "      <td>3</td>\n",
              "    </tr>\n",
              "    <tr>\n",
              "      <th>7+</th>\n",
              "      <td>323</td>\n",
              "      <td>109</td>\n",
              "      <td>916</td>\n",
              "      <td>179</td>\n",
              "    </tr>\n",
              "    <tr>\n",
              "      <th>all</th>\n",
              "      <td>130</td>\n",
              "      <td>55</td>\n",
              "      <td>406</td>\n",
              "      <td>277</td>\n",
              "    </tr>\n",
              "  </tbody>\n",
              "</table>\n",
              "</div>"
            ],
            "text/plain": [
              "     Netflix  Hulu  Prime Video  Disney+\n",
              "13+      382   119          819       40\n",
              "16+       89    17          226        1\n",
              "18+      752   290         2612        3\n",
              "7+       323   109          916      179\n",
              "all      130    55          406      277"
            ]
          },
          "metadata": {},
          "execution_count": 152
        }
      ]
    },
    {
      "cell_type": "code",
      "metadata": {
        "colab": {
          "base_uri": "https://localhost:8080/",
          "height": 665
        },
        "id": "vEOGXTedJIlg",
        "outputId": "22159471-3a36-43ba-c16c-669c77983576"
      },
      "source": [
        "x.rename_axis('Age', inplace=True)\n",
        "x.reset_index(inplace=True)\n",
        "x=x.melt(id_vars='Age', var_name='Platform', value_name='movie_count')\n",
        "x"
      ],
      "execution_count": 153,
      "outputs": [
        {
          "output_type": "execute_result",
          "data": {
            "text/html": [
              "<div>\n",
              "<style scoped>\n",
              "    .dataframe tbody tr th:only-of-type {\n",
              "        vertical-align: middle;\n",
              "    }\n",
              "\n",
              "    .dataframe tbody tr th {\n",
              "        vertical-align: top;\n",
              "    }\n",
              "\n",
              "    .dataframe thead th {\n",
              "        text-align: right;\n",
              "    }\n",
              "</style>\n",
              "<table border=\"1\" class=\"dataframe\">\n",
              "  <thead>\n",
              "    <tr style=\"text-align: right;\">\n",
              "      <th></th>\n",
              "      <th>Age</th>\n",
              "      <th>Platform</th>\n",
              "      <th>movie_count</th>\n",
              "    </tr>\n",
              "  </thead>\n",
              "  <tbody>\n",
              "    <tr>\n",
              "      <th>0</th>\n",
              "      <td>13+</td>\n",
              "      <td>Netflix</td>\n",
              "      <td>382</td>\n",
              "    </tr>\n",
              "    <tr>\n",
              "      <th>1</th>\n",
              "      <td>16+</td>\n",
              "      <td>Netflix</td>\n",
              "      <td>89</td>\n",
              "    </tr>\n",
              "    <tr>\n",
              "      <th>2</th>\n",
              "      <td>18+</td>\n",
              "      <td>Netflix</td>\n",
              "      <td>752</td>\n",
              "    </tr>\n",
              "    <tr>\n",
              "      <th>3</th>\n",
              "      <td>7+</td>\n",
              "      <td>Netflix</td>\n",
              "      <td>323</td>\n",
              "    </tr>\n",
              "    <tr>\n",
              "      <th>4</th>\n",
              "      <td>all</td>\n",
              "      <td>Netflix</td>\n",
              "      <td>130</td>\n",
              "    </tr>\n",
              "    <tr>\n",
              "      <th>5</th>\n",
              "      <td>13+</td>\n",
              "      <td>Hulu</td>\n",
              "      <td>119</td>\n",
              "    </tr>\n",
              "    <tr>\n",
              "      <th>6</th>\n",
              "      <td>16+</td>\n",
              "      <td>Hulu</td>\n",
              "      <td>17</td>\n",
              "    </tr>\n",
              "    <tr>\n",
              "      <th>7</th>\n",
              "      <td>18+</td>\n",
              "      <td>Hulu</td>\n",
              "      <td>290</td>\n",
              "    </tr>\n",
              "    <tr>\n",
              "      <th>8</th>\n",
              "      <td>7+</td>\n",
              "      <td>Hulu</td>\n",
              "      <td>109</td>\n",
              "    </tr>\n",
              "    <tr>\n",
              "      <th>9</th>\n",
              "      <td>all</td>\n",
              "      <td>Hulu</td>\n",
              "      <td>55</td>\n",
              "    </tr>\n",
              "    <tr>\n",
              "      <th>10</th>\n",
              "      <td>13+</td>\n",
              "      <td>Prime Video</td>\n",
              "      <td>819</td>\n",
              "    </tr>\n",
              "    <tr>\n",
              "      <th>11</th>\n",
              "      <td>16+</td>\n",
              "      <td>Prime Video</td>\n",
              "      <td>226</td>\n",
              "    </tr>\n",
              "    <tr>\n",
              "      <th>12</th>\n",
              "      <td>18+</td>\n",
              "      <td>Prime Video</td>\n",
              "      <td>2612</td>\n",
              "    </tr>\n",
              "    <tr>\n",
              "      <th>13</th>\n",
              "      <td>7+</td>\n",
              "      <td>Prime Video</td>\n",
              "      <td>916</td>\n",
              "    </tr>\n",
              "    <tr>\n",
              "      <th>14</th>\n",
              "      <td>all</td>\n",
              "      <td>Prime Video</td>\n",
              "      <td>406</td>\n",
              "    </tr>\n",
              "    <tr>\n",
              "      <th>15</th>\n",
              "      <td>13+</td>\n",
              "      <td>Disney+</td>\n",
              "      <td>40</td>\n",
              "    </tr>\n",
              "    <tr>\n",
              "      <th>16</th>\n",
              "      <td>16+</td>\n",
              "      <td>Disney+</td>\n",
              "      <td>1</td>\n",
              "    </tr>\n",
              "    <tr>\n",
              "      <th>17</th>\n",
              "      <td>18+</td>\n",
              "      <td>Disney+</td>\n",
              "      <td>3</td>\n",
              "    </tr>\n",
              "    <tr>\n",
              "      <th>18</th>\n",
              "      <td>7+</td>\n",
              "      <td>Disney+</td>\n",
              "      <td>179</td>\n",
              "    </tr>\n",
              "    <tr>\n",
              "      <th>19</th>\n",
              "      <td>all</td>\n",
              "      <td>Disney+</td>\n",
              "      <td>277</td>\n",
              "    </tr>\n",
              "  </tbody>\n",
              "</table>\n",
              "</div>"
            ],
            "text/plain": [
              "    Age     Platform  movie_count\n",
              "0   13+      Netflix          382\n",
              "1   16+      Netflix           89\n",
              "2   18+      Netflix          752\n",
              "3    7+      Netflix          323\n",
              "4   all      Netflix          130\n",
              "5   13+         Hulu          119\n",
              "6   16+         Hulu           17\n",
              "7   18+         Hulu          290\n",
              "8    7+         Hulu          109\n",
              "9   all         Hulu           55\n",
              "10  13+  Prime Video          819\n",
              "11  16+  Prime Video          226\n",
              "12  18+  Prime Video         2612\n",
              "13   7+  Prime Video          916\n",
              "14  all  Prime Video          406\n",
              "15  13+      Disney+           40\n",
              "16  16+      Disney+            1\n",
              "17  18+      Disney+            3\n",
              "18   7+      Disney+          179\n",
              "19  all      Disney+          277"
            ]
          },
          "metadata": {},
          "execution_count": 153
        }
      ]
    },
    {
      "cell_type": "code",
      "metadata": {
        "colab": {
          "base_uri": "https://localhost:8080/",
          "height": 296
        },
        "id": "JhLdYLS2LCwm",
        "outputId": "1a557b4d-7feb-419c-d07c-fa311899d6cc"
      },
      "source": [
        "sns.barplot(x=x.Platform, y=x.movie_count, hue=x['Age'], palette='CMRmap')"
      ],
      "execution_count": 154,
      "outputs": [
        {
          "output_type": "execute_result",
          "data": {
            "text/plain": [
              "<matplotlib.axes._subplots.AxesSubplot at 0x7fdc225a4cd0>"
            ]
          },
          "metadata": {},
          "execution_count": 154
        },
        {
          "output_type": "display_data",
          "data": {
            "image/png": "[encoded data removed]",
            "text/plain": [
              "<Figure size 432x288 with 1 Axes>"
            ]
          },
          "metadata": {
            "needs_background": "light"
          }
        }
      ]
    },
    {
      "cell_type": "markdown",
      "metadata": {
        "id": "rmBbKKRIR-ST"
      },
      "source": [
        "From the above plot, we can infer that most of these OTT platforms prioritize 18+ movies to captivate viewers of that age group, while Disney+ concentrates more on movies that are appropriate for children."
      ]
    },
    {
      "cell_type": "code",
      "metadata": {
        "colab": {
          "base_uri": "https://localhost:8080/",
          "height": 417
        },
        "id": "6wsfLpIGav__",
        "outputId": "10559936-a23d-448d-ebe1-23bb42391888"
      },
      "source": [
        "# To determine the movie count on each platform based on Genre\n",
        "\n",
        "a = df[['Netflix','Hulu','Prime Video', 'Disney+', 'Genres']]\n",
        "a=a.drop('Genres', axis=1).join(a['Genres'].str.split(\",\", expand=True).stack().reset_index(level=1, drop=True).rename(\"Genres\"))\n",
        "a"
      ],
      "execution_count": 134,
      "outputs": [
        {
          "output_type": "execute_result",
          "data": {
            "text/html": [
              "<div>\n",
              "<style scoped>\n",
              "    .dataframe tbody tr th:only-of-type {\n",
              "        vertical-align: middle;\n",
              "    }\n",
              "\n",
              "    .dataframe tbody tr th {\n",
              "        vertical-align: top;\n",
              "    }\n",
              "\n",
              "    .dataframe thead th {\n",
              "        text-align: right;\n",
              "    }\n",
              "</style>\n",
              "<table border=\"1\" class=\"dataframe\">\n",
              "  <thead>\n",
              "    <tr style=\"text-align: right;\">\n",
              "      <th></th>\n",
              "      <th>Netflix</th>\n",
              "      <th>Hulu</th>\n",
              "      <th>Prime Video</th>\n",
              "      <th>Disney+</th>\n",
              "      <th>Genres</th>\n",
              "    </tr>\n",
              "  </thead>\n",
              "  <tbody>\n",
              "    <tr>\n",
              "      <th>0</th>\n",
              "      <td>1.0</td>\n",
              "      <td>0</td>\n",
              "      <td>0</td>\n",
              "      <td>0</td>\n",
              "      <td>Action</td>\n",
              "    </tr>\n",
              "    <tr>\n",
              "      <th>0</th>\n",
              "      <td>1.0</td>\n",
              "      <td>0</td>\n",
              "      <td>0</td>\n",
              "      <td>0</td>\n",
              "      <td>Adventure</td>\n",
              "    </tr>\n",
              "    <tr>\n",
              "      <th>0</th>\n",
              "      <td>1.0</td>\n",
              "      <td>0</td>\n",
              "      <td>0</td>\n",
              "      <td>0</td>\n",
              "      <td>Sci-Fi</td>\n",
              "    </tr>\n",
              "    <tr>\n",
              "      <th>0</th>\n",
              "      <td>1.0</td>\n",
              "      <td>0</td>\n",
              "      <td>0</td>\n",
              "      <td>0</td>\n",
              "      <td>Thriller</td>\n",
              "    </tr>\n",
              "    <tr>\n",
              "      <th>1</th>\n",
              "      <td>1.0</td>\n",
              "      <td>0</td>\n",
              "      <td>0</td>\n",
              "      <td>0</td>\n",
              "      <td>Action</td>\n",
              "    </tr>\n",
              "    <tr>\n",
              "      <th>...</th>\n",
              "      <td>...</td>\n",
              "      <td>...</td>\n",
              "      <td>...</td>\n",
              "      <td>...</td>\n",
              "      <td>...</td>\n",
              "    </tr>\n",
              "    <tr>\n",
              "      <th>16741</th>\n",
              "      <td>0.0</td>\n",
              "      <td>0</td>\n",
              "      <td>0</td>\n",
              "      <td>1</td>\n",
              "      <td>Documentary</td>\n",
              "    </tr>\n",
              "    <tr>\n",
              "      <th>16742</th>\n",
              "      <td>0.0</td>\n",
              "      <td>0</td>\n",
              "      <td>0</td>\n",
              "      <td>1</td>\n",
              "      <td>Documentary</td>\n",
              "    </tr>\n",
              "    <tr>\n",
              "      <th>16743</th>\n",
              "      <td>0.0</td>\n",
              "      <td>0</td>\n",
              "      <td>0</td>\n",
              "      <td>1</td>\n",
              "      <td>Documentary</td>\n",
              "    </tr>\n",
              "    <tr>\n",
              "      <th>16743</th>\n",
              "      <td>0.0</td>\n",
              "      <td>0</td>\n",
              "      <td>0</td>\n",
              "      <td>1</td>\n",
              "      <td>Short</td>\n",
              "    </tr>\n",
              "    <tr>\n",
              "      <th>16743</th>\n",
              "      <td>0.0</td>\n",
              "      <td>0</td>\n",
              "      <td>0</td>\n",
              "      <td>1</td>\n",
              "      <td>Family</td>\n",
              "    </tr>\n",
              "  </tbody>\n",
              "</table>\n",
              "<p>39373 rows × 5 columns</p>\n",
              "</div>"
            ],
            "text/plain": [
              "       Netflix  Hulu  Prime Video  Disney+       Genres\n",
              "0          1.0     0            0        0       Action\n",
              "0          1.0     0            0        0    Adventure\n",
              "0          1.0     0            0        0       Sci-Fi\n",
              "0          1.0     0            0        0     Thriller\n",
              "1          1.0     0            0        0       Action\n",
              "...        ...   ...          ...      ...          ...\n",
              "16741      0.0     0            0        1  Documentary\n",
              "16742      0.0     0            0        1  Documentary\n",
              "16743      0.0     0            0        1  Documentary\n",
              "16743      0.0     0            0        1        Short\n",
              "16743      0.0     0            0        1       Family\n",
              "\n",
              "[39373 rows x 5 columns]"
            ]
          },
          "metadata": {},
          "execution_count": 134
        }
      ]
    },
    {
      "cell_type": "code",
      "metadata": {
        "id": "xg8ho3afcTvq"
      },
      "source": [
        "g1=a.groupby(by=a['Genres']).sum()"
      ],
      "execution_count": 135,
      "outputs": []
    },
    {
      "cell_type": "code",
      "metadata": {
        "id": "Cyu3FipvuVp6"
      },
      "source": [
        "net = g1['Netflix'].sort_values(ascending=False)\n",
        "hulu = g1['Hulu'].sort_values(ascending=False)\n",
        "prime = g1['Prime Video'].sort_values(ascending=False)\n",
        "dis = g1['Disney+'].sort_values(ascending=False)"
      ],
      "execution_count": 136,
      "outputs": []
    },
    {
      "cell_type": "code",
      "metadata": {
        "colab": {
          "base_uri": "https://localhost:8080/",
          "height": 918
        },
        "id": "u5_cnchTb7Ki",
        "outputId": "7aef4bfa-6d8b-4dab-d4b2-ef4553abdf57"
      },
      "source": [
        "#fig, ax= plt.subplots(2,2, figsize=(10,10), dpi=100)\n",
        "\n",
        "plt.figure(figsize=(15,10), dpi=100)\n",
        "\n",
        "plt.subplot(2,2,1)\n",
        "plt.bar(x=net.index, height=net.values, color='lightcoral')\n",
        "plt.title('Netflix')\n",
        "plt.xticks(rotation=90)\n",
        "\n",
        "plt.subplot(2,2,2)\n",
        "plt.bar(x=hulu.index, height= hulu.values, color='lightgreen')\n",
        "plt.title('Hulu')\n",
        "plt.xticks(rotation=90)\n",
        "\n",
        "plt.subplot(2,2,3)\n",
        "plt.bar(x=prime.index, height=prime.values, color='orange')\n",
        "plt.title('Prime Video')\n",
        "plt.xticks(rotation=90)\n",
        "\n",
        "plt.subplot(2,2,4)\n",
        "plt.bar(x=dis.index, height = dis.values, color='navy')\n",
        "plt.title('Disney+')\n",
        "plt.xticks(rotation=90)\n",
        "\n",
        "plt.subplots_adjust(wspace=0.4, \n",
        "                    hspace=0.4)\n",
        "\n",
        "plt.show()\n"
      ],
      "execution_count": 137,
      "outputs": [
        {
          "output_type": "display_data",
          "data": {
            "image/png": "[encoded data removed]",
            "text/plain": [
              "<Figure size 1500x1000 with 4 Axes>"
            ]
          },
          "metadata": {
            "needs_background": "light"
          }
        }
      ]
    },
    {
      "cell_type": "markdown",
      "metadata": {
        "id": "zmdi_6UzHWGg"
      },
      "source": [
        "The above plots depicts the count of movies in each platform based on genre. It is evident that Netflix, Hulu and Prime Video have large set of movies in 'Drama' genre, while Disney+ has maximum movies in 'Family' genre. It might have prioritized 'Family'-based movies in order to seek attention of larger audience of all age group."
      ]
    },
    {
      "cell_type": "code",
      "metadata": {
        "colab": {
          "base_uri": "https://localhost:8080/",
          "height": 447
        },
        "id": "DYtn89PEOCYq",
        "outputId": "3e1aa14c-8b1a-4c77-e0a6-f20f5e6c69a5"
      },
      "source": [
        "#  Movie count based on countries across the platforms\n",
        "\n",
        "a = df[['Netflix','Hulu','Prime Video', 'Disney+', 'Country']]\n",
        "a=a.drop('Country', axis=1).join(a['Country'].str.split(\",\", expand=True).stack().reset_index(level=1, drop=True).rename(\"Country\"))\n",
        "a= a.groupby(by='Country').sum()\n",
        "a"
      ],
      "execution_count": 143,
      "outputs": [
        {
          "output_type": "execute_result",
          "data": {
            "text/html": [
              "<div>\n",
              "<style scoped>\n",
              "    .dataframe tbody tr th:only-of-type {\n",
              "        vertical-align: middle;\n",
              "    }\n",
              "\n",
              "    .dataframe tbody tr th {\n",
              "        vertical-align: top;\n",
              "    }\n",
              "\n",
              "    .dataframe thead th {\n",
              "        text-align: right;\n",
              "    }\n",
              "</style>\n",
              "<table border=\"1\" class=\"dataframe\">\n",
              "  <thead>\n",
              "    <tr style=\"text-align: right;\">\n",
              "      <th></th>\n",
              "      <th>Netflix</th>\n",
              "      <th>Hulu</th>\n",
              "      <th>Prime Video</th>\n",
              "      <th>Disney+</th>\n",
              "    </tr>\n",
              "    <tr>\n",
              "      <th>Country</th>\n",
              "      <th></th>\n",
              "      <th></th>\n",
              "      <th></th>\n",
              "      <th></th>\n",
              "    </tr>\n",
              "  </thead>\n",
              "  <tbody>\n",
              "    <tr>\n",
              "      <th>Afghanistan</th>\n",
              "      <td>0.0</td>\n",
              "      <td>0</td>\n",
              "      <td>4</td>\n",
              "      <td>0</td>\n",
              "    </tr>\n",
              "    <tr>\n",
              "      <th>Albania</th>\n",
              "      <td>1.0</td>\n",
              "      <td>0</td>\n",
              "      <td>4</td>\n",
              "      <td>0</td>\n",
              "    </tr>\n",
              "    <tr>\n",
              "      <th>Algeria</th>\n",
              "      <td>0.0</td>\n",
              "      <td>0</td>\n",
              "      <td>4</td>\n",
              "      <td>0</td>\n",
              "    </tr>\n",
              "    <tr>\n",
              "      <th>Angola</th>\n",
              "      <td>0.0</td>\n",
              "      <td>0</td>\n",
              "      <td>0</td>\n",
              "      <td>1</td>\n",
              "    </tr>\n",
              "    <tr>\n",
              "      <th>Argentina</th>\n",
              "      <td>47.0</td>\n",
              "      <td>6</td>\n",
              "      <td>56</td>\n",
              "      <td>0</td>\n",
              "    </tr>\n",
              "    <tr>\n",
              "      <th>...</th>\n",
              "      <td>...</td>\n",
              "      <td>...</td>\n",
              "      <td>...</td>\n",
              "      <td>...</td>\n",
              "    </tr>\n",
              "    <tr>\n",
              "      <th>West Germany</th>\n",
              "      <td>4.0</td>\n",
              "      <td>0</td>\n",
              "      <td>66</td>\n",
              "      <td>0</td>\n",
              "    </tr>\n",
              "    <tr>\n",
              "      <th>Yemen</th>\n",
              "      <td>0.0</td>\n",
              "      <td>0</td>\n",
              "      <td>1</td>\n",
              "      <td>0</td>\n",
              "    </tr>\n",
              "    <tr>\n",
              "      <th>Yugoslavia</th>\n",
              "      <td>0.0</td>\n",
              "      <td>0</td>\n",
              "      <td>13</td>\n",
              "      <td>0</td>\n",
              "    </tr>\n",
              "    <tr>\n",
              "      <th>Zambia</th>\n",
              "      <td>0.0</td>\n",
              "      <td>0</td>\n",
              "      <td>1</td>\n",
              "      <td>0</td>\n",
              "    </tr>\n",
              "    <tr>\n",
              "      <th>Zimbabwe</th>\n",
              "      <td>1.0</td>\n",
              "      <td>0</td>\n",
              "      <td>1</td>\n",
              "      <td>0</td>\n",
              "    </tr>\n",
              "  </tbody>\n",
              "</table>\n",
              "<p>168 rows × 4 columns</p>\n",
              "</div>"
            ],
            "text/plain": [
              "              Netflix  Hulu  Prime Video  Disney+\n",
              "Country                                          \n",
              "Afghanistan       0.0     0            4        0\n",
              "Albania           1.0     0            4        0\n",
              "Algeria           0.0     0            4        0\n",
              "Angola            0.0     0            0        1\n",
              "Argentina        47.0     6           56        0\n",
              "...               ...   ...          ...      ...\n",
              "West Germany      4.0     0           66        0\n",
              "Yemen             0.0     0            1        0\n",
              "Yugoslavia        0.0     0           13        0\n",
              "Zambia            0.0     0            1        0\n",
              "Zimbabwe          1.0     0            1        0\n",
              "\n",
              "[168 rows x 4 columns]"
            ]
          },
          "metadata": {},
          "execution_count": 143
        }
      ]
    },
    {
      "cell_type": "code",
      "metadata": {
        "id": "O3KtWForP5SX"
      },
      "source": [
        "netc = a['Netflix'].sort_values(ascending= False)[:11]\n",
        "huluc = a['Hulu'].sort_values(ascending= False)[:11]\n",
        "primec = a['Prime Video'].sort_values(ascending= False)[:11]\n",
        "disc= a['Disney+'].sort_values(ascending= False)[:11]"
      ],
      "execution_count": 140,
      "outputs": []
    },
    {
      "cell_type": "code",
      "metadata": {
        "colab": {
          "base_uri": "https://localhost:8080/",
          "height": 935
        },
        "id": "x1o4i3LUSDCV",
        "outputId": "fe921f6a-d2a5-4309-bb97-ba2af53a12c3"
      },
      "source": [
        "plt.figure(figsize=(15,10), dpi=100)\n",
        "\n",
        "plt.subplot(2,2,1)\n",
        "plt.plot(netc.index, netc.values, color='lightcoral')\n",
        "plt.title('Netflix')\n",
        "plt.xticks(rotation=90)\n",
        "\n",
        "plt.subplot(2,2,2)\n",
        "plt.plot(huluc.index, huluc.values, color='green')\n",
        "plt.title('Hulu')\n",
        "plt.xticks(rotation=90)\n",
        "\n",
        "plt.subplot(2,2,3)\n",
        "plt.plot(primec.index, primec.values, color='orange')\n",
        "plt.title('Prime Video')\n",
        "plt.xticks(rotation=90)\n",
        "\n",
        "plt.subplot(2,2,4)\n",
        "plt.plot(disc.index, disc.values, color='navy')\n",
        "plt.title('Disney+')\n",
        "plt.xticks(rotation=90)\n",
        "\n",
        "plt.subplots_adjust(\n",
        "                    wspace=0.4, \n",
        "                    hspace=0.4)\n",
        "\n",
        "plt.show()\n"
      ],
      "execution_count": 141,
      "outputs": [
        {
          "output_type": "display_data",
          "data": {
            "image/png": "[encoded data removed]",
            "text/plain": [
              "<Figure size 1500x1000 with 4 Axes>"
            ]
          },
          "metadata": {
            "needs_background": "light"
          }
        }
      ]
    },
    {
      "cell_type": "markdown",
      "metadata": {
        "id": "vP6RKB5ETTd9"
      },
      "source": [
        "The above plots depict the count of movies in each platform based on the country. All the OTT platforms concentrate more on American movies These platforms might generate higher revenue in US. So, this might prabably be the reason for higher count of American movies. "
      ]
    },
    {
      "cell_type": "code",
      "metadata": {
        "colab": {
          "base_uri": "https://localhost:8080/",
          "height": 447
        },
        "id": "_Xdg2_5ufm3P",
        "outputId": "38ed63b6-4797-48d6-9041-d6624a863612"
      },
      "source": [
        "# Movie count based on country and Genre across the platforms\n",
        "\n",
        "coun_gen = df[['Country', 'Genres', 'Netflix', 'Hulu', 'Prime Video', 'Disney+']]\n",
        "coun_gen = coun_gen.drop('Country', axis=1).join(coun_gen['Country'].str.split(\",\", expand=True).stack().reset_index(level=1, drop=True).rename(\"Country\"))\n",
        "coun_gen = coun_gen.drop('Genres', axis=1).join(coun_gen['Genres'].str.split(\",\", expand=True).stack().reset_index(level=1, drop=True).rename(\"Genres\"))\n",
        "coun_gen.groupby(by=['Country', 'Genres']).sum()"
      ],
      "execution_count": 142,
      "outputs": [
        {
          "output_type": "execute_result",
          "data": {
            "text/html": [
              "<div>\n",
              "<style scoped>\n",
              "    .dataframe tbody tr th:only-of-type {\n",
              "        vertical-align: middle;\n",
              "    }\n",
              "\n",
              "    .dataframe tbody tr th {\n",
              "        vertical-align: top;\n",
              "    }\n",
              "\n",
              "    .dataframe thead th {\n",
              "        text-align: right;\n",
              "    }\n",
              "</style>\n",
              "<table border=\"1\" class=\"dataframe\">\n",
              "  <thead>\n",
              "    <tr style=\"text-align: right;\">\n",
              "      <th></th>\n",
              "      <th></th>\n",
              "      <th>Netflix</th>\n",
              "      <th>Hulu</th>\n",
              "      <th>Prime Video</th>\n",
              "      <th>Disney+</th>\n",
              "    </tr>\n",
              "    <tr>\n",
              "      <th>Country</th>\n",
              "      <th>Genres</th>\n",
              "      <th></th>\n",
              "      <th></th>\n",
              "      <th></th>\n",
              "      <th></th>\n",
              "    </tr>\n",
              "  </thead>\n",
              "  <tbody>\n",
              "    <tr>\n",
              "      <th rowspan=\"5\" valign=\"top\">Afghanistan</th>\n",
              "      <th>Action</th>\n",
              "      <td>0.0</td>\n",
              "      <td>0</td>\n",
              "      <td>2</td>\n",
              "      <td>0</td>\n",
              "    </tr>\n",
              "    <tr>\n",
              "      <th>Documentary</th>\n",
              "      <td>0.0</td>\n",
              "      <td>0</td>\n",
              "      <td>11</td>\n",
              "      <td>0</td>\n",
              "    </tr>\n",
              "    <tr>\n",
              "      <th>Drama</th>\n",
              "      <td>0.0</td>\n",
              "      <td>0</td>\n",
              "      <td>2</td>\n",
              "      <td>0</td>\n",
              "    </tr>\n",
              "    <tr>\n",
              "      <th>History</th>\n",
              "      <td>0.0</td>\n",
              "      <td>0</td>\n",
              "      <td>11</td>\n",
              "      <td>0</td>\n",
              "    </tr>\n",
              "    <tr>\n",
              "      <th>War</th>\n",
              "      <td>0.0</td>\n",
              "      <td>0</td>\n",
              "      <td>11</td>\n",
              "      <td>0</td>\n",
              "    </tr>\n",
              "    <tr>\n",
              "      <th>...</th>\n",
              "      <th>...</th>\n",
              "      <td>...</td>\n",
              "      <td>...</td>\n",
              "      <td>...</td>\n",
              "      <td>...</td>\n",
              "    </tr>\n",
              "    <tr>\n",
              "      <th>Yugoslavia</th>\n",
              "      <th>War</th>\n",
              "      <td>0.0</td>\n",
              "      <td>0</td>\n",
              "      <td>10</td>\n",
              "      <td>0</td>\n",
              "    </tr>\n",
              "    <tr>\n",
              "      <th>Zambia</th>\n",
              "      <th>Drama</th>\n",
              "      <td>0.0</td>\n",
              "      <td>0</td>\n",
              "      <td>2</td>\n",
              "      <td>0</td>\n",
              "    </tr>\n",
              "    <tr>\n",
              "      <th rowspan=\"3\" valign=\"top\">Zimbabwe</th>\n",
              "      <th>Documentary</th>\n",
              "      <td>5.0</td>\n",
              "      <td>0</td>\n",
              "      <td>4</td>\n",
              "      <td>0</td>\n",
              "    </tr>\n",
              "    <tr>\n",
              "      <th>History</th>\n",
              "      <td>0.0</td>\n",
              "      <td>0</td>\n",
              "      <td>4</td>\n",
              "      <td>0</td>\n",
              "    </tr>\n",
              "    <tr>\n",
              "      <th>Music</th>\n",
              "      <td>0.0</td>\n",
              "      <td>0</td>\n",
              "      <td>4</td>\n",
              "      <td>0</td>\n",
              "    </tr>\n",
              "  </tbody>\n",
              "</table>\n",
              "<p>1750 rows × 4 columns</p>\n",
              "</div>"
            ],
            "text/plain": [
              "                         Netflix  Hulu  Prime Video  Disney+\n",
              "Country     Genres                                          \n",
              "Afghanistan Action           0.0     0            2        0\n",
              "            Documentary      0.0     0           11        0\n",
              "            Drama            0.0     0            2        0\n",
              "            History          0.0     0           11        0\n",
              "            War              0.0     0           11        0\n",
              "...                          ...   ...          ...      ...\n",
              "Yugoslavia  War              0.0     0           10        0\n",
              "Zambia      Drama            0.0     0            2        0\n",
              "Zimbabwe    Documentary      5.0     0            4        0\n",
              "            History          0.0     0            4        0\n",
              "            Music            0.0     0            4        0\n",
              "\n",
              "[1750 rows x 4 columns]"
            ]
          },
          "metadata": {},
          "execution_count": 142
        }
      ]
    }
  ]
}